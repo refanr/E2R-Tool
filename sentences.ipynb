{
 "cells": [
  {
   "cell_type": "code",
   "execution_count": 59,
   "id": "c15c157a-542e-4d07-8e8c-dd5a56ecbbf1",
   "metadata": {},
   "outputs": [
    {
     "name": "stdout",
     "output_type": "stream",
     "text": [
      "<class 'list'>\n"
     ]
    }
   ],
   "source": [
    "with open('./Data/News/e2r_news.txt', 'r') as file:\n",
    "    sents = file.read().split('.')\n",
    "    print(type(sents))"
   ]
  },
  {
   "cell_type": "code",
   "execution_count": 60,
   "id": "fe006f14-6ae9-4bd3-bc6d-857cd0a69ffa",
   "metadata": {},
   "outputs": [],
   "source": [
    "sents = sents[0:-1]"
   ]
  },
  {
   "cell_type": "code",
   "execution_count": 61,
   "id": "d8fb340e-e1dd-40df-b5df-d93a33b11125",
   "metadata": {},
   "outputs": [
    {
     "name": "stdout",
     "output_type": "stream",
     "text": [
      "678\n"
     ]
    }
   ],
   "source": [
    "print(len(sents))"
   ]
  },
  {
   "cell_type": "code",
   "execution_count": 63,
   "id": "30f9a175-d741-4d44-b3ca-40e2b3c7f758",
   "metadata": {},
   "outputs": [],
   "source": [
    "word_counts = [len(sentence.split()) for sentence in sents]"
   ]
  },
  {
   "cell_type": "code",
   "execution_count": 65,
   "id": "a209fb0a-7bb1-4766-a051-983caa2cfdf7",
   "metadata": {},
   "outputs": [
    {
     "name": "stdout",
     "output_type": "stream",
     "text": [
      "Sentence 593: 2 words\n"
     ]
    }
   ],
   "source": [
    "\n",
    "# Display results\n",
    "for i, count in enumerate(word_counts, 1):\n",
    "    if count < 3:\n",
    "        print(f\"Sentence {i}: {count} words\")"
   ]
  },
  {
   "cell_type": "code",
   "execution_count": 64,
   "id": "0cc1bfb7-0594-4b7b-8998-ccd7eea3f38b",
   "metadata": {},
   "outputs": [
    {
     "data": {
      "text/plain": [
       "2"
      ]
     },
     "execution_count": 64,
     "metadata": {},
     "output_type": "execute_result"
    }
   ],
   "source": [
    "min(word_counts)"
   ]
  }
 ],
 "metadata": {
  "kernelspec": {
   "display_name": "Python 3 (ipykernel)",
   "language": "python",
   "name": "python3"
  },
  "language_info": {
   "codemirror_mode": {
    "name": "ipython",
    "version": 3
   },
   "file_extension": ".py",
   "mimetype": "text/x-python",
   "name": "python",
   "nbconvert_exporter": "python",
   "pygments_lexer": "ipython3",
   "version": "3.12.5"
  }
 },
 "nbformat": 4,
 "nbformat_minor": 5
}
